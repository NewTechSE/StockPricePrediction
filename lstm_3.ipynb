{
 "cells": [
  {
   "cell_type": "markdown",
   "source": [
    "# LSTM for Stock Price Prediction\n",
    "\n",
    "> Technical Walk-through on LSTM-based Recurrent Neural Network Creation for Google Stock Price Prediction"
   ],
   "metadata": {
    "collapsed": false,
    "pycharm": {
     "name": "#%% md\n"
    }
   }
  },
  {
   "cell_type": "code",
   "execution_count": 29,
   "outputs": [],
   "source": [
    "import pandas as pd\n",
    "import numpy as np\n",
    "import matplotlib.pyplot as plt"
   ],
   "metadata": {
    "collapsed": false,
    "pycharm": {
     "name": "#%%\n"
    }
   }
  },
  {
   "cell_type": "markdown",
   "source": [
    "## Import data"
   ],
   "metadata": {
    "collapsed": false,
    "pycharm": {
     "name": "#%% md\n"
    }
   },
   "execution_count": 1
  },
  {
   "cell_type": "code",
   "execution_count": 30,
   "outputs": [
    {
     "data": {
      "text/plain": "         Date    Open    High     Low   Close    Volume\n0  01/03/2012  325.25  332.83  324.97  663.59   7380500\n1  01/04/2012  331.27  333.87  329.08  666.45   5749400\n2  01/05/2012  329.83  330.75  326.89  657.21   6590300\n3  01/06/2012  328.34  328.77  323.68  648.24   5405900\n4  01/09/2012  322.04  322.29  309.46  620.76  11688800",
      "text/html": "<div>\n<style scoped>\n    .dataframe tbody tr th:only-of-type {\n        vertical-align: middle;\n    }\n\n    .dataframe tbody tr th {\n        vertical-align: top;\n    }\n\n    .dataframe thead th {\n        text-align: right;\n    }\n</style>\n<table border=\"1\" class=\"dataframe\">\n  <thead>\n    <tr style=\"text-align: right;\">\n      <th></th>\n      <th>Date</th>\n      <th>Open</th>\n      <th>High</th>\n      <th>Low</th>\n      <th>Close</th>\n      <th>Volume</th>\n    </tr>\n  </thead>\n  <tbody>\n    <tr>\n      <th>0</th>\n      <td>01/03/2012</td>\n      <td>325.25</td>\n      <td>332.83</td>\n      <td>324.97</td>\n      <td>663.59</td>\n      <td>7380500</td>\n    </tr>\n    <tr>\n      <th>1</th>\n      <td>01/04/2012</td>\n      <td>331.27</td>\n      <td>333.87</td>\n      <td>329.08</td>\n      <td>666.45</td>\n      <td>5749400</td>\n    </tr>\n    <tr>\n      <th>2</th>\n      <td>01/05/2012</td>\n      <td>329.83</td>\n      <td>330.75</td>\n      <td>326.89</td>\n      <td>657.21</td>\n      <td>6590300</td>\n    </tr>\n    <tr>\n      <th>3</th>\n      <td>01/06/2012</td>\n      <td>328.34</td>\n      <td>328.77</td>\n      <td>323.68</td>\n      <td>648.24</td>\n      <td>5405900</td>\n    </tr>\n    <tr>\n      <th>4</th>\n      <td>01/09/2012</td>\n      <td>322.04</td>\n      <td>322.29</td>\n      <td>309.46</td>\n      <td>620.76</td>\n      <td>11688800</td>\n    </tr>\n  </tbody>\n</table>\n</div>"
     },
     "execution_count": 30,
     "metadata": {},
     "output_type": "execute_result"
    }
   ],
   "source": [
    "df = pd.read_csv(\"data_sets/Google_Stock_Price_Train.csv\")\n",
    "df.replace(',','', regex=True, inplace=True)\n",
    "df.head()"
   ],
   "metadata": {
    "collapsed": false,
    "pycharm": {
     "name": "#%%\n"
    }
   }
  },
  {
   "cell_type": "code",
   "execution_count": 31,
   "outputs": [
    {
     "data": {
      "text/plain": "array([['663.59'],\n       ['666.45'],\n       ['657.21'],\n       ...,\n       ['1049.369995'],\n       ['1048.140015'],\n       ['1046.400024']], dtype=object)"
     },
     "execution_count": 31,
     "metadata": {},
     "output_type": "execute_result"
    }
   ],
   "source": [
    "training_set = df.iloc[:, 4:5].values\n",
    "training_set"
   ],
   "metadata": {
    "collapsed": false,
    "pycharm": {
     "name": "#%%\n"
    }
   }
  },
  {
   "cell_type": "markdown",
   "source": [
    "## Feature scaling"
   ],
   "metadata": {
    "collapsed": false,
    "pycharm": {
     "name": "#%% md\n"
    }
   }
  },
  {
   "cell_type": "code",
   "execution_count": 32,
   "outputs": [
    {
     "data": {
      "text/plain": "array([[0.23757287],\n       [0.24151427],\n       [0.22878051],\n       ...,\n       [0.76922122],\n       [0.76752617],\n       [0.76512827]])"
     },
     "execution_count": 32,
     "metadata": {},
     "output_type": "execute_result"
    }
   ],
   "source": [
    "from sklearn.preprocessing import MinMaxScaler\n",
    "sc = MinMaxScaler(feature_range = (0, 1))\n",
    "training_set_scaled = sc.fit_transform(training_set)\n",
    "training_set_scaled"
   ],
   "metadata": {
    "collapsed": false,
    "pycharm": {
     "name": "#%%\n"
    }
   }
  },
  {
   "cell_type": "markdown",
   "source": [
    "## Data structure creation\n",
    "\n",
    "A special data structure is needed to cover 60-time stamps, based on which RNN will predict the 61st price. Here the number of past timestamps is set to 60 based on experimentation. Thus, X_train is a nested list, which contains lists of 60 time-stamp prices. y_train is a list of stock prices which is the next day stock price, corresponding to each list in X_train."
   ],
   "metadata": {
    "collapsed": false,
    "pycharm": {
     "name": "#%% md\n"
    }
   }
  },
  {
   "cell_type": "code",
   "execution_count": 33,
   "outputs": [],
   "source": [
    "X_train = []\n",
    "y_train = []\n",
    "steps_size = 60\n",
    "for i in range(steps_size, len(training_set_scaled)):\n",
    "    X_train.append(training_set_scaled[i - steps_size: i, 0])\n",
    "    y_train.append(training_set_scaled[i, 0])\n",
    "\n",
    "X_train, y_train = np.array(X_train), np.array(y_train)"
   ],
   "metadata": {
    "collapsed": false,
    "pycharm": {
     "name": "#%%\n"
    }
   }
  },
  {
   "cell_type": "code",
   "execution_count": 34,
   "outputs": [],
   "source": [
    "X_train = np.reshape(X_train, newshape = (X_train.shape[0], X_train.shape[1], 1))"
   ],
   "metadata": {
    "collapsed": false,
    "pycharm": {
     "name": "#%%\n"
    }
   }
  },
  {
   "cell_type": "markdown",
   "source": [
    "## Model building\n",
    "\n",
    "Note for the LSTM layer, units is the number of LSTM neurons in the layer. 50 neurons will give the model high dimensionality, enough to capture the upwards and downward trends. return_sequences is True as we need to add another LSTM layer after the current one. input_shape corresponds to the number of time stamps and the number of indicators. For dropout, 20% of 50 neurons will be ignored randomly during each iteration of training."
   ],
   "metadata": {
    "collapsed": false,
    "pycharm": {
     "name": "#%% md\n"
    }
   }
  },
  {
   "cell_type": "code",
   "execution_count": 35,
   "outputs": [],
   "source": [
    "from keras.layers import LSTM, Dropout, Dense\n",
    "from keras import Sequential"
   ],
   "metadata": {
    "collapsed": false,
    "pycharm": {
     "name": "#%%\n"
    }
   }
  },
  {
   "cell_type": "code",
   "execution_count": 36,
   "outputs": [],
   "source": [
    "model = Sequential()\n",
    "model.add(LSTM(units = 50, return_sequences = True, input_shape = (X_train.shape[1], 1)))\n",
    "model.add(Dropout(rate = 0.2))\n",
    "##add 2nd lstm layer\n",
    "model.add(LSTM(units = 50, return_sequences = True))\n",
    "model.add(Dropout(rate = 0.2))\n",
    "##add 3rd lstm layer\n",
    "model.add(LSTM(units = 50, return_sequences = True))\n",
    "model.add(Dropout(rate = 0.2))\n",
    "##add 4th lstm layer\n",
    "model.add(LSTM(units = 50, return_sequences = False))\n",
    "model.add(Dropout(rate = 0.2))\n",
    "\n",
    "model.add(Dense(units = 1))"
   ],
   "metadata": {
    "collapsed": false,
    "pycharm": {
     "name": "#%%\n"
    }
   }
  },
  {
   "cell_type": "code",
   "execution_count": 37,
   "outputs": [],
   "source": [
    "model.compile(optimizer ='adam', loss ='mean_squared_error')"
   ],
   "metadata": {
    "collapsed": false,
    "pycharm": {
     "name": "#%%\n"
    }
   }
  },
  {
   "cell_type": "markdown",
   "source": [
    "## Model fitting"
   ],
   "metadata": {
    "collapsed": false,
    "pycharm": {
     "name": "#%% md\n"
    }
   }
  },
  {
   "cell_type": "markdown",
   "source": [
    "RNN weights are updated every 32 stock prices with a batch size of 32. Feel free to try more batches and epochs if the loss of the model is not converging."
   ],
   "metadata": {
    "collapsed": false,
    "pycharm": {
     "name": "#%% md\n"
    }
   }
  },
  {
   "cell_type": "code",
   "execution_count": 38,
   "outputs": [
    {
     "name": "stdout",
     "output_type": "stream",
     "text": [
      "Epoch 1/7\n",
      "46/46 [==============================] - 9s 68ms/step - loss: 0.0282\n",
      "Epoch 2/7\n",
      "46/46 [==============================] - 3s 71ms/step - loss: 0.0098\n",
      "Epoch 3/7\n",
      "46/46 [==============================] - 3s 68ms/step - loss: 0.0081\n",
      "Epoch 4/7\n",
      "46/46 [==============================] - 3s 74ms/step - loss: 0.0072\n",
      "Epoch 5/7\n",
      "46/46 [==============================] - 4s 82ms/step - loss: 0.0080\n",
      "Epoch 6/7\n",
      "46/46 [==============================] - 3s 74ms/step - loss: 0.0057\n",
      "Epoch 7/7\n",
      "46/46 [==============================] - 4s 77ms/step - loss: 0.0052\n"
     ]
    },
    {
     "data": {
      "text/plain": "<keras.callbacks.History at 0x29e9075c280>"
     },
     "execution_count": 38,
     "metadata": {},
     "output_type": "execute_result"
    }
   ],
   "source": [
    "model.fit(x = X_train, y = y_train, batch_size = 32, epochs = 7)\n",
    "model.save('models/Google_Stock_Price_Prediction_RNN.h5')"
   ],
   "metadata": {
    "collapsed": false,
    "pycharm": {
     "name": "#%%\n"
    }
   }
  },
  {
   "cell_type": "markdown",
   "source": [
    "## Model prediction"
   ],
   "metadata": {
    "collapsed": false,
    "pycharm": {
     "name": "#%% md\n"
    }
   }
  },
  {
   "cell_type": "code",
   "execution_count": 39,
   "outputs": [],
   "source": [
    "dataset_test = pd.read_csv(\"data_sets/Google_Stock_Price_Test.csv\")\n",
    "real_stock_price = dataset_test.iloc[:, 4:5].values"
   ],
   "metadata": {
    "collapsed": false,
    "pycharm": {
     "name": "#%%\n"
    }
   }
  },
  {
   "cell_type": "markdown",
   "source": [
    "## Data processing\n",
    "\n",
    "First, we need to concatenate the train and test datasets for prediction, because we use the previous 60 days’ stock prices to predict the next-day price. In another word, we need the 60 days’ price before the 1st date in the test dataset."
   ],
   "metadata": {
    "collapsed": false,
    "pycharm": {
     "name": "#%% md\n"
    }
   }
  },
  {
   "cell_type": "code",
   "execution_count": 42,
   "outputs": [],
   "source": [
    "dataset_total = pd.concat((df['Close'], dataset_test['Close']), axis = 0)"
   ],
   "metadata": {
    "collapsed": false,
    "pycharm": {
     "name": "#%%\n"
    }
   }
  },
  {
   "cell_type": "markdown",
   "source": [
    "Then, create the input for prediction, index starting from the date 60 days before the first date in the test dataset."
   ],
   "metadata": {
    "collapsed": false,
    "pycharm": {
     "name": "#%% md\n"
    }
   }
  },
  {
   "cell_type": "code",
   "execution_count": 43,
   "outputs": [],
   "source": [
    "inputs = dataset_total[len(dataset_total) - len(dataset_test) - steps_size:].values"
   ],
   "metadata": {
    "collapsed": false,
    "pycharm": {
     "name": "#%%\n"
    }
   }
  },
  {
   "cell_type": "markdown",
   "source": [
    "Third, reshape the inputs to have only 1 column."
   ],
   "metadata": {
    "collapsed": false,
    "pycharm": {
     "name": "#%% md\n"
    }
   }
  },
  {
   "cell_type": "code",
   "execution_count": 44,
   "outputs": [],
   "source": [
    "inputs = inputs.reshape(-1, 1)"
   ],
   "metadata": {
    "collapsed": false,
    "pycharm": {
     "name": "#%%\n"
    }
   }
  },
  {
   "cell_type": "markdown",
   "source": [
    "Fourth, using the scale set by the training set, scale the test inputs."
   ],
   "metadata": {
    "collapsed": false,
    "pycharm": {
     "name": "#%% md\n"
    }
   }
  },
  {
   "cell_type": "code",
   "execution_count": 45,
   "outputs": [],
   "source": [
    "inputs = sc.transform(inputs)"
   ],
   "metadata": {
    "collapsed": false,
    "pycharm": {
     "name": "#%%\n"
    }
   }
  },
  {
   "cell_type": "markdown",
   "source": [
    "Finally, create the test data structure"
   ],
   "metadata": {
    "collapsed": false,
    "pycharm": {
     "name": "#%% md\n"
    }
   }
  },
  {
   "cell_type": "code",
   "execution_count": 47,
   "outputs": [],
   "source": [
    "X_test = []\n",
    "for i in range(steps_size, len(inputs)):\n",
    "    X_test.append(inputs[i - steps_size: i, 0])\n",
    "\n",
    "X_test = np.array(X_test)\n",
    "#make numpy array as 3D , adding num of indicator\n",
    "X_test = np.reshape(X_test, newshape=(X_test.shape[0], X_test.shape[1], 1))"
   ],
   "metadata": {
    "collapsed": false,
    "pycharm": {
     "name": "#%%\n"
    }
   }
  },
  {
   "cell_type": "markdown",
   "source": [
    "## Model prediction"
   ],
   "metadata": {
    "collapsed": false,
    "pycharm": {
     "name": "#%% md\n"
    }
   }
  },
  {
   "cell_type": "code",
   "execution_count": 48,
   "outputs": [
    {
     "name": "stdout",
     "output_type": "stream",
     "text": [
      "4/4 [==============================] - 2s 24ms/step\n"
     ]
    },
    {
     "data": {
      "text/plain": "array([[1081.3904 ],\n       [1080.5247 ],\n       [1078.9465 ],\n       [1077.4595 ],\n       [1076.8821 ],\n       [1077.7787 ],\n       [1080.3175 ],\n       [1084.2751 ],\n       [1089.2504 ],\n       [1095.0139 ],\n       [1101.269  ],\n       [1107.8248 ],\n       [1114.4019 ],\n       [1120.7993 ],\n       [1127.1044 ],\n       [1133.5669 ],\n       [1140.1736 ],\n       [1146.8365 ],\n       [1153.4106 ],\n       [1159.6578 ],\n       [1165.0836 ],\n       [1169.3479 ],\n       [1172.1989 ],\n       [1172.5552 ],\n       [1168.7231 ],\n       [1160.2255 ],\n       [1146.9194 ],\n       [1128.6487 ],\n       [1106.6566 ],\n       [1082.966  ],\n       [1059.6835 ],\n       [1038.915  ],\n       [1022.5353 ],\n       [1011.7833 ],\n       [1007.2283 ],\n       [1008.8425 ],\n       [1015.91345],\n       [1027.601  ],\n       [1043.0482 ],\n       [1060.7705 ],\n       [1078.9767 ],\n       [1095.4764 ],\n       [1108.7308 ],\n       [1118.0946 ],\n       [1123.6008 ],\n       [1125.9292 ],\n       [1126.1978 ],\n       [1125.9998 ],\n       [1126.6367 ],\n       [1128.4111 ],\n       [1131.3368 ],\n       [1135.143  ],\n       [1139.17   ],\n       [1142.1512 ],\n       [1143.0614 ],\n       [1141.2488 ],\n       [1135.8896 ],\n       [1126.3184 ],\n       [1113.139  ],\n       [1096.7427 ],\n       [1077.9253 ],\n       [1058.2441 ],\n       [1038.9103 ],\n       [1021.0918 ],\n       [1005.9102 ],\n       [ 994.1951 ],\n       [ 986.06305],\n       [ 981.4173 ],\n       [ 980.1924 ],\n       [ 981.96375],\n       [ 986.32336],\n       [ 992.71906],\n       [1000.6527 ],\n       [1010.1448 ],\n       [1021.08636],\n       [1033.3883 ],\n       [1046.5005 ],\n       [1059.6079 ],\n       [1071.1287 ],\n       [1079.7507 ],\n       [1084.9979 ],\n       [1086.7725 ],\n       [1085.1603 ],\n       [1080.8676 ],\n       [1074.5864 ],\n       [1067.041  ],\n       [1059.2874 ],\n       [1052.3494 ],\n       [1046.9553 ],\n       [1043.9141 ],\n       [1043.8778 ],\n       [1047.0394 ],\n       [1053.1477 ],\n       [1061.2488 ],\n       [1070.2661 ],\n       [1079.14   ],\n       [1086.8175 ],\n       [1092.7775 ],\n       [1096.663  ],\n       [1098.5479 ],\n       [1098.7109 ],\n       [1097.4651 ],\n       [1094.9188 ],\n       [1091.3446 ],\n       [1087.3561 ],\n       [1084.0955 ],\n       [1082.7751 ],\n       [1084.1315 ],\n       [1088.2717 ],\n       [1094.6014 ],\n       [1102.203  ],\n       [1110.2588 ],\n       [1118.2046 ],\n       [1125.5172 ],\n       [1132.0873 ],\n       [1137.8749 ],\n       [1143.1987 ],\n       [1148.2073 ],\n       [1152.9374 ],\n       [1157.0782 ],\n       [1160.2749 ],\n       [1161.725  ],\n       [1160.7659 ],\n       [1156.9148 ],\n       [1150.3422 ]], dtype=float32)"
     },
     "execution_count": 48,
     "metadata": {},
     "output_type": "execute_result"
    }
   ],
   "source": [
    "predicted_stock_price = model.predict(X_test)\n",
    "predicted_stock_price = sc.inverse_transform(predicted_stock_price)\n",
    "\n",
    "predicted_stock_price"
   ],
   "metadata": {
    "collapsed": false,
    "pycharm": {
     "name": "#%%\n"
    }
   }
  },
  {
   "cell_type": "markdown",
   "source": [
    "## Result visualization"
   ],
   "metadata": {
    "collapsed": false,
    "pycharm": {
     "name": "#%% md\n"
    }
   }
  },
  {
   "cell_type": "code",
   "execution_count": 49,
   "outputs": [
    {
     "data": {
      "text/plain": "<Figure size 432x288 with 1 Axes>",
      "image/png": "[encoded data removed]"
     },
     "metadata": {
      "needs_background": "light"
     },
     "output_type": "display_data"
    }
   ],
   "source": [
    "plt.plot(real_stock_price, color = \"red\", label = 'Real price')\n",
    "plt.plot(predicted_stock_price, color = 'blue', label = 'Predicted price')\n",
    "plt.title('Google price prediction')\n",
    "plt.xlabel('Time')\n",
    "plt.ylabel('Price')\n",
    "plt.legend()\n",
    "plt.show()"
   ],
   "metadata": {
    "collapsed": false,
    "pycharm": {
     "name": "#%%\n"
    }
   }
  },
  {
   "cell_type": "code",
   "execution_count": null,
   "outputs": [],
   "source": [],
   "metadata": {
    "collapsed": false,
    "pycharm": {
     "name": "#%%\n"
    }
   }
  }
 ],
 "metadata": {
  "kernelspec": {
   "display_name": "Python 3",
   "language": "python",
   "name": "python3"
  },
  "language_info": {
   "codemirror_mode": {
    "name": "ipython",
    "version": 2
   },
   "file_extension": ".py",
   "mimetype": "text/x-python",
   "name": "python",
   "nbconvert_exporter": "python",
   "pygments_lexer": "ipython2",
   "version": "2.7.6"
  }
 },
 "nbformat": 4,
 "nbformat_minor": 0
}